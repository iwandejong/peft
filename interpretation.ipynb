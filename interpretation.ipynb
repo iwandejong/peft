{
 "cells": [
  {
   "cell_type": "code",
   "execution_count": 10,
   "id": "9b3be3e5",
   "metadata": {},
   "outputs": [
    {
     "name": "stdout",
     "output_type": "stream",
     "text": [
      "  task  seed     score\n",
      "0  rte     0  0.877256\n",
      "1  rte     1  0.851986\n",
      "2  rte     2  0.855596\n",
      "3  rte     3  0.848375\n",
      "4  rte     4  0.841155\n",
      "      count      mean       std       min       25%       50%       75%  \\\n",
      "task                                                                      \n",
      "rte     5.0  0.854874  0.013604  0.841155  0.848375  0.851986  0.855596   \n",
      "\n",
      "           max  \n",
      "task            \n",
      "rte   0.877256  \n"
     ]
    }
   ],
   "source": [
    "import pandas as pd\n",
    "\n",
    "# import csv\n",
    "df = pd.read_csv(\"run_results.csv\")\n",
    "print(df)\n",
    "\n",
    "# compute summary statistics\n",
    "grouped = df.groupby(\"task\")[\"score\"]\n",
    "\n",
    "print(grouped.describe())"
   ]
  }
 ],
 "metadata": {
  "kernelspec": {
   "display_name": "3.10.11",
   "language": "python",
   "name": "python3"
  },
  "language_info": {
   "codemirror_mode": {
    "name": "ipython",
    "version": 3
   },
   "file_extension": ".py",
   "mimetype": "text/x-python",
   "name": "python",
   "nbconvert_exporter": "python",
   "pygments_lexer": "ipython3",
   "version": "3.10.11"
  }
 },
 "nbformat": 4,
 "nbformat_minor": 5
}
